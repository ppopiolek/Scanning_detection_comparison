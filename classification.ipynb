{
  "nbformat": 4,
  "nbformat_minor": 0,
  "metadata": {
    "colab": {
      "provenance": [],
      "gpuType": "T4"
    },
    "kernelspec": {
      "name": "python3",
      "display_name": "Python 3"
    },
    "language_info": {
      "name": "python"
    },
    "accelerator": "GPU"
  },
  "cells": [
    {
      "cell_type": "code",
      "execution_count": 1,
      "metadata": {
        "id": "S5GqzjyE58rY"
      },
      "outputs": [],
      "source": [
        "import pandas as pd"
      ]
    },
    {
      "cell_type": "code",
      "source": [
        "df1 = pd.read_csv('original_packets.csv')\n",
        "df2 = pd.read_csv('flows_non_rygoristic.csv')\n",
        "df3 = pd.read_csv('flows_rygoristic.csv')"
      ],
      "metadata": {
        "id": "FIrDM26j6e75"
      },
      "execution_count": 2,
      "outputs": []
    },
    {
      "cell_type": "code",
      "source": [
        "df1.columns"
      ],
      "metadata": {
        "colab": {
          "base_uri": "https://localhost:8080/"
        },
        "id": "Ef6KlvZ16j8F",
        "outputId": "3079a6de-1d19-415a-a554-049490f221f8"
      },
      "execution_count": 3,
      "outputs": [
        {
          "output_type": "execute_result",
          "data": {
            "text/plain": [
              "Index(['ip.ttl', 'ip.proto', 'ip.len', 'tcp.seq', 'tcp.ack', 'tcp.len',\n",
              "       'tcp.hdr_len', 'tcp.flags.fin', 'tcp.flags.syn', 'tcp.flags.reset',\n",
              "       'tcp.flags.push', 'tcp.flags.ack', 'tcp.flags.urg', 'tcp.flags.cwr',\n",
              "       'tcp.window_size', 'tcp.urgent_pointer', 'tcp.options.mss_val',\n",
              "       'label'],\n",
              "      dtype='object')"
            ]
          },
          "metadata": {},
          "execution_count": 3
        }
      ]
    },
    {
      "cell_type": "code",
      "source": [
        "df2.columns"
      ],
      "metadata": {
        "colab": {
          "base_uri": "https://localhost:8080/"
        },
        "id": "msqkeLoixFAR",
        "outputId": "675fec98-2654-4fea-e18c-40fcd21b25c1"
      },
      "execution_count": 4,
      "outputs": [
        {
          "output_type": "execute_result",
          "data": {
            "text/plain": [
              "Index(['sizing_mean', 'sizing_min', 'sizing_max', 'sizing_std', 'deltas_mean',\n",
              "       'deltas_min', 'deltas_max', 'deltas_std', 'fin', 'syn', 'rst', 'ack',\n",
              "       'psh', 'urg', 'packet_count', 'label'],\n",
              "      dtype='object')"
            ]
          },
          "metadata": {},
          "execution_count": 4
        }
      ]
    },
    {
      "cell_type": "code",
      "source": [
        "to_drop = [\"ip.ttl\", \"ip.proto\", \"tcp.seq\", \"tcp.ack\", \"tcp.hdr_len\", \"tcp.window_size\", \"tcp.options.mss_val\", \"tcp.flags.cwr\", \"tcp.urgent_pointer\"]\n",
        "df1 = df1.drop(columns=to_drop)\n",
        "df1.columns"
      ],
      "metadata": {
        "id": "qod6zco57GQm",
        "colab": {
          "base_uri": "https://localhost:8080/"
        },
        "outputId": "cf8c5e91-7042-41a1-ca1f-50040e26fba7"
      },
      "execution_count": 5,
      "outputs": [
        {
          "output_type": "execute_result",
          "data": {
            "text/plain": [
              "Index(['ip.len', 'tcp.len', 'tcp.flags.fin', 'tcp.flags.syn',\n",
              "       'tcp.flags.reset', 'tcp.flags.push', 'tcp.flags.ack', 'tcp.flags.urg',\n",
              "       'label'],\n",
              "      dtype='object')"
            ]
          },
          "metadata": {},
          "execution_count": 5
        }
      ]
    },
    {
      "cell_type": "code",
      "source": [
        "df1.label.value_counts()"
      ],
      "metadata": {
        "colab": {
          "base_uri": "https://localhost:8080/"
        },
        "id": "oQpW1Eb96kWs",
        "outputId": "efd559a9-7e87-42a5-e0f8-319159bfa9c0"
      },
      "execution_count": 6,
      "outputs": [
        {
          "output_type": "execute_result",
          "data": {
            "text/plain": [
              "label\n",
              "1    366602\n",
              "0    328261\n",
              "Name: count, dtype: int64"
            ]
          },
          "metadata": {},
          "execution_count": 6
        }
      ]
    },
    {
      "cell_type": "code",
      "source": [
        "df2.label.value_counts()"
      ],
      "metadata": {
        "colab": {
          "base_uri": "https://localhost:8080/"
        },
        "id": "Pt9pxsx4h3iz",
        "outputId": "3c185ece-aef8-41fe-b5b6-e52df001c580"
      },
      "execution_count": 7,
      "outputs": [
        {
          "output_type": "execute_result",
          "data": {
            "text/plain": [
              "label\n",
              "0    14545\n",
              "1    10451\n",
              "Name: count, dtype: int64"
            ]
          },
          "metadata": {},
          "execution_count": 7
        }
      ]
    },
    {
      "cell_type": "code",
      "source": [
        "df3.label.value_counts()"
      ],
      "metadata": {
        "colab": {
          "base_uri": "https://localhost:8080/"
        },
        "id": "i8IXKH9jw-De",
        "outputId": "866204b0-59af-41d4-f757-c9e98e4eef96"
      },
      "execution_count": 8,
      "outputs": [
        {
          "output_type": "execute_result",
          "data": {
            "text/plain": [
              "label\n",
              "1    46347\n",
              "0    15379\n",
              "Name: count, dtype: int64"
            ]
          },
          "metadata": {},
          "execution_count": 8
        }
      ]
    },
    {
      "cell_type": "code",
      "source": [
        "datasets = {\n",
        "    \"Original packets\": df1,\n",
        "    \"Flows non-rygoristic\": df2,\n",
        "    \"Flows rygoristic\": df3\n",
        "}"
      ],
      "metadata": {
        "id": "hmYC4onLtjn8"
      },
      "execution_count": 9,
      "outputs": []
    },
    {
      "cell_type": "code",
      "source": [
        "import pandas as pd\n",
        "import numpy as np\n",
        "import matplotlib.pyplot as plt\n",
        "import seaborn as sns\n",
        "from sklearn.model_selection import train_test_split, GridSearchCV\n",
        "from sklearn.ensemble import RandomForestClassifier\n",
        "from sklearn.neural_network import MLPClassifier\n",
        "from sklearn.metrics import f1_score, confusion_matrix, classification_report"
      ],
      "metadata": {
        "id": "jllreNPI7Cv9"
      },
      "execution_count": 10,
      "outputs": []
    },
    {
      "cell_type": "code",
      "source": [
        "def calculate_metrics(y_true, y_pred, packet_counts=None):\n",
        "    if packet_counts is None:\n",
        "        packet_counts = [1] * len(y_true)\n",
        "\n",
        "    weights = packet_counts\n",
        "\n",
        "    cm = confusion_matrix(y_true, y_pred, sample_weight=weights)\n",
        "    tn, fp, fn, tp = cm.ravel()\n",
        "\n",
        "    precision = tp / (tp + fp) if (tp + fp) > 0 else 0\n",
        "    recall = tp / (tp + fn) if (tp + fn) > 0 else 0\n",
        "    f1 = 2 * (precision * recall) / (precision + recall) if (precision + recall) > 0 else 0\n",
        "\n",
        "    fpr = fp / (fp + tn) if (fp + tn) > 0 else 0\n",
        "\n",
        "    return f1, fpr"
      ],
      "metadata": {
        "id": "Ty94Vgp6znkw"
      },
      "execution_count": 11,
      "outputs": []
    },
    {
      "cell_type": "code",
      "source": [
        "def train_model_and_evaluate(df, model_name):\n",
        "    X = df.drop(columns=['label'])\n",
        "    y = df['label']\n",
        "\n",
        "    X_train, X_test, y_train, y_test = train_test_split(X, y, test_size=0.3, random_state=42)\n",
        "\n",
        "    if model_name == 'Random Forest':\n",
        "        model = RandomForestClassifier(random_state=42)\n",
        "        param_grid = {\n",
        "            'n_estimators': [10, 25, 50],\n",
        "            'max_depth': [None, 10, 20, 30]\n",
        "        }\n",
        "    elif model_name == 'DNN':\n",
        "        model = MLPClassifier(random_state=42, max_iter=500)\n",
        "        param_grid = {\n",
        "            'hidden_layer_sizes': [(25,), (50), (25, 25)],\n",
        "            'activation': ['tanh', 'relu'],\n",
        "            'solver': ['sgd', 'adam']\n",
        "        }\n",
        "\n",
        "    grid_search = GridSearchCV(estimator=model, param_grid=param_grid, cv=3, scoring='f1', n_jobs=-1)\n",
        "    grid_search.fit(X_train, y_train)\n",
        "\n",
        "    best_model = grid_search.best_estimator_\n",
        "    best_params = grid_search.best_params_\n",
        "\n",
        "    print(f\"Best parameters for {model_name} on {dataset_name}: {best_params}\")\n",
        "\n",
        "    y_pred = best_model.predict(X_test)\n",
        "\n",
        "    packet_counts = X_test[\"packet_count\"] if \"packet_count\" in X_test else None\n",
        "    fscore, fpr = calculate_metrics(y_test, y_pred, packet_counts)\n",
        "\n",
        "    return best_params, fscore, fpr"
      ],
      "metadata": {
        "id": "AYaSirQsJmLI"
      },
      "execution_count": 12,
      "outputs": []
    },
    {
      "cell_type": "code",
      "source": [
        "results = {'Dataset': [], 'Model_name': [], 'Params': [], 'FScore': [], 'FPR': []}"
      ],
      "metadata": {
        "id": "0ag_hXDCJpa_"
      },
      "execution_count": 13,
      "outputs": []
    },
    {
      "cell_type": "code",
      "source": [
        "for dataset_name in datasets:\n",
        "    for model_name in ['Random Forest', 'DNN']:\n",
        "        print(dataset_name, model_name)\n",
        "        params, fscore, fpr = train_model_and_evaluate(datasets[dataset_name], model_name)\n",
        "        results['Dataset'].append(dataset_name)\n",
        "        results['Model_name'].append(model_name)\n",
        "        results['Params'].append(params)\n",
        "        results['FScore'].append(fscore)\n",
        "        results['FPR'].append(fpr)"
      ],
      "metadata": {
        "id": "SmCz4GBjJvKA",
        "colab": {
          "base_uri": "https://localhost:8080/"
        },
        "outputId": "427e4092-9f7a-4edc-89b0-092926f2f5d4"
      },
      "execution_count": 14,
      "outputs": [
        {
          "output_type": "stream",
          "name": "stdout",
          "text": [
            "Original packets Random Forest\n",
            "Best parameters for Random Forest on Original packets: {'max_depth': None, 'n_estimators': 25}\n",
            "Original packets DNN\n",
            "Best parameters for DNN on Original packets: {'activation': 'tanh', 'hidden_layer_sizes': (25, 25), 'solver': 'adam'}\n",
            "Flows non-rygoristic Random Forest\n",
            "Best parameters for Random Forest on Flows non-rygoristic: {'max_depth': 10, 'n_estimators': 10}\n",
            "Flows non-rygoristic DNN\n",
            "Best parameters for DNN on Flows non-rygoristic: {'activation': 'tanh', 'hidden_layer_sizes': (25, 25), 'solver': 'adam'}\n",
            "Flows rygoristic Random Forest\n",
            "Best parameters for Random Forest on Flows rygoristic: {'max_depth': 30, 'n_estimators': 10}\n",
            "Flows rygoristic DNN\n",
            "Best parameters for DNN on Flows rygoristic: {'activation': 'tanh', 'hidden_layer_sizes': (25, 25), 'solver': 'adam'}\n"
          ]
        }
      ]
    },
    {
      "cell_type": "code",
      "source": [
        "results"
      ],
      "metadata": {
        "colab": {
          "base_uri": "https://localhost:8080/"
        },
        "id": "fcAJirP2pvam",
        "outputId": "caa67678-f62c-4ff9-858d-be1c8b301c8e"
      },
      "execution_count": 15,
      "outputs": [
        {
          "output_type": "execute_result",
          "data": {
            "text/plain": [
              "{'Dataset': ['Original packets',\n",
              "  'Original packets',\n",
              "  'Flows non-rygoristic',\n",
              "  'Flows non-rygoristic',\n",
              "  'Flows rygoristic',\n",
              "  'Flows rygoristic'],\n",
              " 'Model_name': ['Random Forest',\n",
              "  'DNN',\n",
              "  'Random Forest',\n",
              "  'DNN',\n",
              "  'Random Forest',\n",
              "  'DNN'],\n",
              " 'Params': [{'max_depth': None, 'n_estimators': 25},\n",
              "  {'activation': 'tanh', 'hidden_layer_sizes': (25, 25), 'solver': 'adam'},\n",
              "  {'max_depth': 10, 'n_estimators': 10},\n",
              "  {'activation': 'tanh', 'hidden_layer_sizes': (25, 25), 'solver': 'adam'},\n",
              "  {'max_depth': 30, 'n_estimators': 10},\n",
              "  {'activation': 'tanh', 'hidden_layer_sizes': (25, 25), 'solver': 'adam'}],\n",
              " 'FScore': [0.8914141414141414,\n",
              "  0.8913300355389018,\n",
              "  0.9999107128362474,\n",
              "  0.9991078452841513,\n",
              "  0.9955494330825474,\n",
              "  0.9812403788452005],\n",
              " 'FPR': [0.1343708676635134,\n",
              "  0.1345844776726681,\n",
              "  0.0,\n",
              "  0.0034839527027027027,\n",
              "  0.004763977558521958,\n",
              "  0.03209034629522151]}"
            ]
          },
          "metadata": {},
          "execution_count": 15
        }
      ]
    },
    {
      "cell_type": "code",
      "source": [
        "results_df = pd.DataFrame(results)"
      ],
      "metadata": {
        "id": "znA_iEgRJ0co"
      },
      "execution_count": 16,
      "outputs": []
    },
    {
      "cell_type": "code",
      "source": [
        "results_df"
      ],
      "metadata": {
        "colab": {
          "base_uri": "https://localhost:8080/",
          "height": 238
        },
        "id": "NweeiSIGs_Gv",
        "outputId": "4bba6123-0f0e-407c-803a-5245b3985114"
      },
      "execution_count": 17,
      "outputs": [
        {
          "output_type": "execute_result",
          "data": {
            "text/plain": [
              "                Dataset     Model_name  \\\n",
              "0      Original packets  Random Forest   \n",
              "1      Original packets            DNN   \n",
              "2  Flows non-rygoristic  Random Forest   \n",
              "3  Flows non-rygoristic            DNN   \n",
              "4      Flows rygoristic  Random Forest   \n",
              "5      Flows rygoristic            DNN   \n",
              "\n",
              "                                              Params    FScore       FPR  \n",
              "0            {'max_depth': None, 'n_estimators': 25}  0.891414  0.134371  \n",
              "1  {'activation': 'tanh', 'hidden_layer_sizes': (...  0.891330  0.134584  \n",
              "2              {'max_depth': 10, 'n_estimators': 10}  0.999911  0.000000  \n",
              "3  {'activation': 'tanh', 'hidden_layer_sizes': (...  0.999108  0.003484  \n",
              "4              {'max_depth': 30, 'n_estimators': 10}  0.995549  0.004764  \n",
              "5  {'activation': 'tanh', 'hidden_layer_sizes': (...  0.981240  0.032090  "
            ],
            "text/html": [
              "\n",
              "  <div id=\"df-acde5784-7e5a-4d6b-aea0-dcfa1abda714\" class=\"colab-df-container\">\n",
              "    <div>\n",
              "<style scoped>\n",
              "    .dataframe tbody tr th:only-of-type {\n",
              "        vertical-align: middle;\n",
              "    }\n",
              "\n",
              "    .dataframe tbody tr th {\n",
              "        vertical-align: top;\n",
              "    }\n",
              "\n",
              "    .dataframe thead th {\n",
              "        text-align: right;\n",
              "    }\n",
              "</style>\n",
              "<table border=\"1\" class=\"dataframe\">\n",
              "  <thead>\n",
              "    <tr style=\"text-align: right;\">\n",
              "      <th></th>\n",
              "      <th>Dataset</th>\n",
              "      <th>Model_name</th>\n",
              "      <th>Params</th>\n",
              "      <th>FScore</th>\n",
              "      <th>FPR</th>\n",
              "    </tr>\n",
              "  </thead>\n",
              "  <tbody>\n",
              "    <tr>\n",
              "      <th>0</th>\n",
              "      <td>Original packets</td>\n",
              "      <td>Random Forest</td>\n",
              "      <td>{'max_depth': None, 'n_estimators': 25}</td>\n",
              "      <td>0.891414</td>\n",
              "      <td>0.134371</td>\n",
              "    </tr>\n",
              "    <tr>\n",
              "      <th>1</th>\n",
              "      <td>Original packets</td>\n",
              "      <td>DNN</td>\n",
              "      <td>{'activation': 'tanh', 'hidden_layer_sizes': (...</td>\n",
              "      <td>0.891330</td>\n",
              "      <td>0.134584</td>\n",
              "    </tr>\n",
              "    <tr>\n",
              "      <th>2</th>\n",
              "      <td>Flows non-rygoristic</td>\n",
              "      <td>Random Forest</td>\n",
              "      <td>{'max_depth': 10, 'n_estimators': 10}</td>\n",
              "      <td>0.999911</td>\n",
              "      <td>0.000000</td>\n",
              "    </tr>\n",
              "    <tr>\n",
              "      <th>3</th>\n",
              "      <td>Flows non-rygoristic</td>\n",
              "      <td>DNN</td>\n",
              "      <td>{'activation': 'tanh', 'hidden_layer_sizes': (...</td>\n",
              "      <td>0.999108</td>\n",
              "      <td>0.003484</td>\n",
              "    </tr>\n",
              "    <tr>\n",
              "      <th>4</th>\n",
              "      <td>Flows rygoristic</td>\n",
              "      <td>Random Forest</td>\n",
              "      <td>{'max_depth': 30, 'n_estimators': 10}</td>\n",
              "      <td>0.995549</td>\n",
              "      <td>0.004764</td>\n",
              "    </tr>\n",
              "    <tr>\n",
              "      <th>5</th>\n",
              "      <td>Flows rygoristic</td>\n",
              "      <td>DNN</td>\n",
              "      <td>{'activation': 'tanh', 'hidden_layer_sizes': (...</td>\n",
              "      <td>0.981240</td>\n",
              "      <td>0.032090</td>\n",
              "    </tr>\n",
              "  </tbody>\n",
              "</table>\n",
              "</div>\n",
              "    <div class=\"colab-df-buttons\">\n",
              "\n",
              "  <div class=\"colab-df-container\">\n",
              "    <button class=\"colab-df-convert\" onclick=\"convertToInteractive('df-acde5784-7e5a-4d6b-aea0-dcfa1abda714')\"\n",
              "            title=\"Convert this dataframe to an interactive table.\"\n",
              "            style=\"display:none;\">\n",
              "\n",
              "  <svg xmlns=\"http://www.w3.org/2000/svg\" height=\"24px\" viewBox=\"0 -960 960 960\">\n",
              "    <path d=\"M120-120v-720h720v720H120Zm60-500h600v-160H180v160Zm220 220h160v-160H400v160Zm0 220h160v-160H400v160ZM180-400h160v-160H180v160Zm440 0h160v-160H620v160ZM180-180h160v-160H180v160Zm440 0h160v-160H620v160Z\"/>\n",
              "  </svg>\n",
              "    </button>\n",
              "\n",
              "  <style>\n",
              "    .colab-df-container {\n",
              "      display:flex;\n",
              "      gap: 12px;\n",
              "    }\n",
              "\n",
              "    .colab-df-convert {\n",
              "      background-color: #E8F0FE;\n",
              "      border: none;\n",
              "      border-radius: 50%;\n",
              "      cursor: pointer;\n",
              "      display: none;\n",
              "      fill: #1967D2;\n",
              "      height: 32px;\n",
              "      padding: 0 0 0 0;\n",
              "      width: 32px;\n",
              "    }\n",
              "\n",
              "    .colab-df-convert:hover {\n",
              "      background-color: #E2EBFA;\n",
              "      box-shadow: 0px 1px 2px rgba(60, 64, 67, 0.3), 0px 1px 3px 1px rgba(60, 64, 67, 0.15);\n",
              "      fill: #174EA6;\n",
              "    }\n",
              "\n",
              "    .colab-df-buttons div {\n",
              "      margin-bottom: 4px;\n",
              "    }\n",
              "\n",
              "    [theme=dark] .colab-df-convert {\n",
              "      background-color: #3B4455;\n",
              "      fill: #D2E3FC;\n",
              "    }\n",
              "\n",
              "    [theme=dark] .colab-df-convert:hover {\n",
              "      background-color: #434B5C;\n",
              "      box-shadow: 0px 1px 3px 1px rgba(0, 0, 0, 0.15);\n",
              "      filter: drop-shadow(0px 1px 2px rgba(0, 0, 0, 0.3));\n",
              "      fill: #FFFFFF;\n",
              "    }\n",
              "  </style>\n",
              "\n",
              "    <script>\n",
              "      const buttonEl =\n",
              "        document.querySelector('#df-acde5784-7e5a-4d6b-aea0-dcfa1abda714 button.colab-df-convert');\n",
              "      buttonEl.style.display =\n",
              "        google.colab.kernel.accessAllowed ? 'block' : 'none';\n",
              "\n",
              "      async function convertToInteractive(key) {\n",
              "        const element = document.querySelector('#df-acde5784-7e5a-4d6b-aea0-dcfa1abda714');\n",
              "        const dataTable =\n",
              "          await google.colab.kernel.invokeFunction('convertToInteractive',\n",
              "                                                    [key], {});\n",
              "        if (!dataTable) return;\n",
              "\n",
              "        const docLinkHtml = 'Like what you see? Visit the ' +\n",
              "          '<a target=\"_blank\" href=https://colab.research.google.com/notebooks/data_table.ipynb>data table notebook</a>'\n",
              "          + ' to learn more about interactive tables.';\n",
              "        element.innerHTML = '';\n",
              "        dataTable['output_type'] = 'display_data';\n",
              "        await google.colab.output.renderOutput(dataTable, element);\n",
              "        const docLink = document.createElement('div');\n",
              "        docLink.innerHTML = docLinkHtml;\n",
              "        element.appendChild(docLink);\n",
              "      }\n",
              "    </script>\n",
              "  </div>\n",
              "\n",
              "\n",
              "<div id=\"df-d3b7698d-e4d2-4f7c-959d-534984392d1e\">\n",
              "  <button class=\"colab-df-quickchart\" onclick=\"quickchart('df-d3b7698d-e4d2-4f7c-959d-534984392d1e')\"\n",
              "            title=\"Suggest charts\"\n",
              "            style=\"display:none;\">\n",
              "\n",
              "<svg xmlns=\"http://www.w3.org/2000/svg\" height=\"24px\"viewBox=\"0 0 24 24\"\n",
              "     width=\"24px\">\n",
              "    <g>\n",
              "        <path d=\"M19 3H5c-1.1 0-2 .9-2 2v14c0 1.1.9 2 2 2h14c1.1 0 2-.9 2-2V5c0-1.1-.9-2-2-2zM9 17H7v-7h2v7zm4 0h-2V7h2v10zm4 0h-2v-4h2v4z\"/>\n",
              "    </g>\n",
              "</svg>\n",
              "  </button>\n",
              "\n",
              "<style>\n",
              "  .colab-df-quickchart {\n",
              "      --bg-color: #E8F0FE;\n",
              "      --fill-color: #1967D2;\n",
              "      --hover-bg-color: #E2EBFA;\n",
              "      --hover-fill-color: #174EA6;\n",
              "      --disabled-fill-color: #AAA;\n",
              "      --disabled-bg-color: #DDD;\n",
              "  }\n",
              "\n",
              "  [theme=dark] .colab-df-quickchart {\n",
              "      --bg-color: #3B4455;\n",
              "      --fill-color: #D2E3FC;\n",
              "      --hover-bg-color: #434B5C;\n",
              "      --hover-fill-color: #FFFFFF;\n",
              "      --disabled-bg-color: #3B4455;\n",
              "      --disabled-fill-color: #666;\n",
              "  }\n",
              "\n",
              "  .colab-df-quickchart {\n",
              "    background-color: var(--bg-color);\n",
              "    border: none;\n",
              "    border-radius: 50%;\n",
              "    cursor: pointer;\n",
              "    display: none;\n",
              "    fill: var(--fill-color);\n",
              "    height: 32px;\n",
              "    padding: 0;\n",
              "    width: 32px;\n",
              "  }\n",
              "\n",
              "  .colab-df-quickchart:hover {\n",
              "    background-color: var(--hover-bg-color);\n",
              "    box-shadow: 0 1px 2px rgba(60, 64, 67, 0.3), 0 1px 3px 1px rgba(60, 64, 67, 0.15);\n",
              "    fill: var(--button-hover-fill-color);\n",
              "  }\n",
              "\n",
              "  .colab-df-quickchart-complete:disabled,\n",
              "  .colab-df-quickchart-complete:disabled:hover {\n",
              "    background-color: var(--disabled-bg-color);\n",
              "    fill: var(--disabled-fill-color);\n",
              "    box-shadow: none;\n",
              "  }\n",
              "\n",
              "  .colab-df-spinner {\n",
              "    border: 2px solid var(--fill-color);\n",
              "    border-color: transparent;\n",
              "    border-bottom-color: var(--fill-color);\n",
              "    animation:\n",
              "      spin 1s steps(1) infinite;\n",
              "  }\n",
              "\n",
              "  @keyframes spin {\n",
              "    0% {\n",
              "      border-color: transparent;\n",
              "      border-bottom-color: var(--fill-color);\n",
              "      border-left-color: var(--fill-color);\n",
              "    }\n",
              "    20% {\n",
              "      border-color: transparent;\n",
              "      border-left-color: var(--fill-color);\n",
              "      border-top-color: var(--fill-color);\n",
              "    }\n",
              "    30% {\n",
              "      border-color: transparent;\n",
              "      border-left-color: var(--fill-color);\n",
              "      border-top-color: var(--fill-color);\n",
              "      border-right-color: var(--fill-color);\n",
              "    }\n",
              "    40% {\n",
              "      border-color: transparent;\n",
              "      border-right-color: var(--fill-color);\n",
              "      border-top-color: var(--fill-color);\n",
              "    }\n",
              "    60% {\n",
              "      border-color: transparent;\n",
              "      border-right-color: var(--fill-color);\n",
              "    }\n",
              "    80% {\n",
              "      border-color: transparent;\n",
              "      border-right-color: var(--fill-color);\n",
              "      border-bottom-color: var(--fill-color);\n",
              "    }\n",
              "    90% {\n",
              "      border-color: transparent;\n",
              "      border-bottom-color: var(--fill-color);\n",
              "    }\n",
              "  }\n",
              "</style>\n",
              "\n",
              "  <script>\n",
              "    async function quickchart(key) {\n",
              "      const quickchartButtonEl =\n",
              "        document.querySelector('#' + key + ' button');\n",
              "      quickchartButtonEl.disabled = true;  // To prevent multiple clicks.\n",
              "      quickchartButtonEl.classList.add('colab-df-spinner');\n",
              "      try {\n",
              "        const charts = await google.colab.kernel.invokeFunction(\n",
              "            'suggestCharts', [key], {});\n",
              "      } catch (error) {\n",
              "        console.error('Error during call to suggestCharts:', error);\n",
              "      }\n",
              "      quickchartButtonEl.classList.remove('colab-df-spinner');\n",
              "      quickchartButtonEl.classList.add('colab-df-quickchart-complete');\n",
              "    }\n",
              "    (() => {\n",
              "      let quickchartButtonEl =\n",
              "        document.querySelector('#df-d3b7698d-e4d2-4f7c-959d-534984392d1e button');\n",
              "      quickchartButtonEl.style.display =\n",
              "        google.colab.kernel.accessAllowed ? 'block' : 'none';\n",
              "    })();\n",
              "  </script>\n",
              "</div>\n",
              "    </div>\n",
              "  </div>\n"
            ],
            "application/vnd.google.colaboratory.intrinsic+json": {
              "type": "dataframe",
              "variable_name": "results_df",
              "summary": "{\n  \"name\": \"results_df\",\n  \"rows\": 6,\n  \"fields\": [\n    {\n      \"column\": \"Dataset\",\n      \"properties\": {\n        \"dtype\": \"string\",\n        \"num_unique_values\": 3,\n        \"samples\": [\n          \"Original packets\",\n          \"Flows non-rygoristic\",\n          \"Flows rygoristic\"\n        ],\n        \"semantic_type\": \"\",\n        \"description\": \"\"\n      }\n    },\n    {\n      \"column\": \"Model_name\",\n      \"properties\": {\n        \"dtype\": \"category\",\n        \"num_unique_values\": 2,\n        \"samples\": [\n          \"DNN\",\n          \"Random Forest\"\n        ],\n        \"semantic_type\": \"\",\n        \"description\": \"\"\n      }\n    },\n    {\n      \"column\": \"Params\",\n      \"properties\": {\n        \"dtype\": \"object\",\n        \"semantic_type\": \"\",\n        \"description\": \"\"\n      }\n    },\n    {\n      \"column\": \"FScore\",\n      \"properties\": {\n        \"dtype\": \"number\",\n        \"std\": 0.053397451771026054,\n        \"min\": 0.8913300355389018,\n        \"max\": 0.9999107128362474,\n        \"num_unique_values\": 6,\n        \"samples\": [\n          0.8914141414141414,\n          0.8913300355389018\n        ],\n        \"semantic_type\": \"\",\n        \"description\": \"\"\n      }\n    },\n    {\n      \"column\": \"FPR\",\n      \"properties\": {\n        \"dtype\": \"number\",\n        \"std\": 0.06525239921584551,\n        \"min\": 0.0,\n        \"max\": 0.1345844776726681,\n        \"num_unique_values\": 6,\n        \"samples\": [\n          0.1343708676635134,\n          0.1345844776726681\n        ],\n        \"semantic_type\": \"\",\n        \"description\": \"\"\n      }\n    }\n  ]\n}"
            }
          },
          "metadata": {},
          "execution_count": 17
        }
      ]
    },
    {
      "cell_type": "code",
      "source": [
        "df_melted_fscore = pd.melt(results_df, id_vars=['Dataset', 'Model_name'], value_vars=['FScore'], var_name='Metric', value_name='Value')\n",
        "df_melted_fpr = pd.melt(results_df, id_vars=['Dataset', 'Model_name'], value_vars=['FPR'], var_name='Metric', value_name='Value')\n",
        "\n",
        "\n",
        "sns.set(style=\"whitegrid\")\n",
        "\n",
        "plt.figure(figsize=(7, 5))\n",
        "ax = sns.barplot(x='Dataset', y='Value', hue='Model_name', data=df_melted_fscore, width=0.6)\n",
        "for i in ax.containers:\n",
        "    ax.bar_label(i,fmt=\"{:0.3f}\")\n",
        "plt.ylabel('FScore')\n",
        "plt.xlabel('Dataset')\n",
        "plt.legend(title='Model', loc='lower right')\n",
        "plt.show()\n",
        "print()\n",
        "\n",
        "plt.figure(figsize=(7, 5))\n",
        "ax = sns.barplot(x='Dataset', y='Value', hue='Model_name', data=df_melted_fpr, width=0.6)\n",
        "for i in ax.containers:\n",
        "    ax.bar_label(i,fmt=\"{:0.3f}\")\n",
        "plt.ylabel('FPR')\n",
        "plt.xlabel('Dataset')\n",
        "plt.legend(title='Model')\n",
        "plt.show()"
      ],
      "metadata": {
        "colab": {
          "base_uri": "https://localhost:8080/",
          "height": 949
        },
        "id": "D3JBv-PGRU8v",
        "outputId": "92fa47ef-1fd6-4e4b-9c68-7cf2dff410e8"
      },
      "execution_count": 18,
      "outputs": [
        {
          "output_type": "display_data",
          "data": {
            "text/plain": [
              "<Figure size 700x500 with 1 Axes>"
            ],
            "image/png": "[encoded data removed]"
          },
          "metadata": {}
        },
        {
          "output_type": "stream",
          "name": "stdout",
          "text": [
            "\n"
          ]
        },
        {
          "output_type": "display_data",
          "data": {
            "text/plain": [
              "<Figure size 700x500 with 1 Axes>"
            ],
            "image/png": "[encoded data removed]"
          },
          "metadata": {}
        }
      ]
    }
  ]
}